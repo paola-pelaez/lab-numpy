{
 "cells": [
  {
   "cell_type": "markdown",
   "metadata": {},
   "source": [
    "# Intrduction to NumPy\n",
    "\n",
    "\n",
    "#### 1. Import NumPy under the name np."
   ]
  },
  {
   "cell_type": "code",
   "execution_count": 22,
   "metadata": {},
   "outputs": [],
   "source": [
    "import numpy as np"
   ]
  },
  {
   "cell_type": "markdown",
   "metadata": {},
   "source": [
    "#### 2. Print your NumPy version."
   ]
  },
  {
   "cell_type": "code",
   "execution_count": 23,
   "metadata": {},
   "outputs": [
    {
     "name": "stdout",
     "output_type": "stream",
     "text": [
      "1.16.5\n"
     ]
    }
   ],
   "source": [
    "print(np.version.version)"
   ]
  },
  {
   "cell_type": "markdown",
   "metadata": {},
   "source": [
    "#### 3. Generate a 2x3x5 3-dimensional array with random values. Assign the array to variable *a*.\n",
    "**Challenge**: there are at least three easy ways that use numpy to generate random arrays. How many ways can you find?"
   ]
  },
  {
   "cell_type": "code",
   "execution_count": 30,
   "metadata": {},
   "outputs": [
    {
     "name": "stdout",
     "output_type": "stream",
     "text": [
      "[[[0.76575561 0.3205204  0.16884625 0.41693444 0.43873688]\n",
      "  [0.73009337 0.65928463 0.38346699 0.92703658 0.22131822]\n",
      "  [0.10225299 0.24709187 0.33409601 0.72974554 0.73839167]]\n",
      "\n",
      " [[0.89936559 0.9939645  0.68791734 0.38773388 0.20000809]\n",
      "  [0.37704431 0.45130349 0.32440519 0.82969594 0.16698392]\n",
      "  [0.33632165 0.94271423 0.22181148 0.42005196 0.13276239]]]\n"
     ]
    }
   ],
   "source": [
    "# Method 1\n",
    "a = np.random.random((2,3,5))\n",
    "print(a)"
   ]
  },
  {
   "cell_type": "code",
   "execution_count": 31,
   "metadata": {},
   "outputs": [
    {
     "name": "stdout",
     "output_type": "stream",
     "text": [
      "[[[0.59910923 0.97590282 0.31161478 0.59099093 0.41524218]\n",
      "  [0.98394326 0.63819683 0.16436667 0.36224865 0.16864103]\n",
      "  [0.49569795 0.25716419 0.72424591 0.14823886 0.55597868]]\n",
      "\n",
      " [[0.72300611 0.53273095 0.54049804 0.27071401 0.10924391]\n",
      "  [0.825976   0.41449574 0.9192918  0.67931636 0.36431475]\n",
      "  [0.25139864 0.70643321 0.43408434 0.94383026 0.26810328]]]\n"
     ]
    }
   ],
   "source": [
    "# Method 2\n",
    "a2 = np.random.rand(2,3,5)\n",
    "print(a2)"
   ]
  },
  {
   "cell_type": "code",
   "execution_count": 32,
   "metadata": {},
   "outputs": [
    {
     "name": "stdout",
     "output_type": "stream",
     "text": [
      "[[[5 1 1 7 4]\n",
      "  [5 5 3 3 2]\n",
      "  [0 8 6 5 5]]\n",
      "\n",
      " [[9 3 3 9 4]\n",
      "  [4 2 1 9 7]\n",
      "  [1 7 1 9 1]]]\n"
     ]
    }
   ],
   "source": [
    "# Method 3\n",
    "a3 = np.random.randint(0,10, size= (2,3,5))\n",
    "print(a3)"
   ]
  },
  {
   "cell_type": "markdown",
   "metadata": {},
   "source": [
    "#### 4. Print *a*.\n"
   ]
  },
  {
   "cell_type": "code",
   "execution_count": 7,
   "metadata": {},
   "outputs": [
    {
     "name": "stdout",
     "output_type": "stream",
     "text": [
      "[[[0.54599716 0.32083998 0.10653635 0.58955929 0.1750449 ]\n",
      "  [0.8236174  0.85824752 0.56039312 0.18846656 0.60811738]\n",
      "  [0.67981215 0.29722189 0.9627614  0.72878882 0.7565258 ]]\n",
      "\n",
      " [[0.10436574 0.38514364 0.28362538 0.48022071 0.97581422]\n",
      "  [0.82724659 0.44541649 0.6895224  0.43374465 0.61540728]\n",
      "  [0.10465446 0.62572036 0.29908556 0.14299704 0.89650996]]]\n"
     ]
    }
   ],
   "source": [
    "print(a)"
   ]
  },
  {
   "cell_type": "markdown",
   "metadata": {},
   "source": [
    "#### 5. Create a 5x2x3 3-dimensional array with all values equaling 1. Assign the array to variable *b*."
   ]
  },
  {
   "cell_type": "code",
   "execution_count": 8,
   "metadata": {},
   "outputs": [],
   "source": [
    "b = np.ones(shape=(5,3,2) ,dtype=int)"
   ]
  },
  {
   "cell_type": "markdown",
   "metadata": {},
   "source": [
    "#### 6. Print *b*.\n"
   ]
  },
  {
   "cell_type": "code",
   "execution_count": 9,
   "metadata": {},
   "outputs": [
    {
     "name": "stdout",
     "output_type": "stream",
     "text": [
      "[[[1 1]\n",
      "  [1 1]\n",
      "  [1 1]]\n",
      "\n",
      " [[1 1]\n",
      "  [1 1]\n",
      "  [1 1]]\n",
      "\n",
      " [[1 1]\n",
      "  [1 1]\n",
      "  [1 1]]\n",
      "\n",
      " [[1 1]\n",
      "  [1 1]\n",
      "  [1 1]]\n",
      "\n",
      " [[1 1]\n",
      "  [1 1]\n",
      "  [1 1]]]\n"
     ]
    }
   ],
   "source": [
    "print(b)"
   ]
  },
  {
   "cell_type": "markdown",
   "metadata": {},
   "source": [
    "#### 7. Do *a* and *b* have the same size? How do you prove that in Python code?"
   ]
  },
  {
   "cell_type": "code",
   "execution_count": 38,
   "metadata": {},
   "outputs": [
    {
     "name": "stdout",
     "output_type": "stream",
     "text": [
      "a size:  30\n",
      "b size:  30\n",
      "0\n"
     ]
    }
   ],
   "source": [
    "print(\"a size: \", a.size)\n",
    "print(\"b size: \", b.size)\n",
    "\n",
    "check_equal_size = a.size - b.size\n",
    "\n",
    "print(check_equal_size)\n",
    "\n",
    "#a and b both have 30 elements in the array so a.size-b.size should be 0"
   ]
  },
  {
   "cell_type": "markdown",
   "metadata": {},
   "source": [
    "#### 8. Are you able to add *a* and *b*? Why or why not?\n"
   ]
  },
  {
   "cell_type": "code",
   "execution_count": 39,
   "metadata": {},
   "outputs": [
    {
     "ename": "ValueError",
     "evalue": "operands could not be broadcast together with shapes (2,3,5) (5,3,2) ",
     "output_type": "error",
     "traceback": [
      "\u001b[1;31m---------------------------------------------------------------------------\u001b[0m",
      "\u001b[1;31mValueError\u001b[0m                                Traceback (most recent call last)",
      "\u001b[1;32m<ipython-input-39-61346de93eca>\u001b[0m in \u001b[0;36m<module>\u001b[1;34m\u001b[0m\n\u001b[0;32m      1\u001b[0m \u001b[1;31m# I am not able to add a and b because they are not exactly the same size. a and b are arrays of different dimmensions.\u001b[0m\u001b[1;33m\u001b[0m\u001b[1;33m\u001b[0m\u001b[1;33m\u001b[0m\u001b[0m\n\u001b[0;32m      2\u001b[0m \u001b[1;33m\u001b[0m\u001b[0m\n\u001b[1;32m----> 3\u001b[1;33m \u001b[0msum_a_b\u001b[0m \u001b[1;33m=\u001b[0m \u001b[0mnp\u001b[0m\u001b[1;33m.\u001b[0m\u001b[0madd\u001b[0m\u001b[1;33m(\u001b[0m\u001b[0ma\u001b[0m\u001b[1;33m,\u001b[0m\u001b[0mb\u001b[0m\u001b[1;33m)\u001b[0m\u001b[1;33m\u001b[0m\u001b[1;33m\u001b[0m\u001b[0m\n\u001b[0m\u001b[0;32m      4\u001b[0m \u001b[1;33m\u001b[0m\u001b[0m\n\u001b[0;32m      5\u001b[0m \u001b[0mprint\u001b[0m\u001b[1;33m(\u001b[0m\u001b[0msum_a_b\u001b[0m\u001b[1;33m)\u001b[0m\u001b[1;33m\u001b[0m\u001b[1;33m\u001b[0m\u001b[0m\n",
      "\u001b[1;31mValueError\u001b[0m: operands could not be broadcast together with shapes (2,3,5) (5,3,2) "
     ]
    }
   ],
   "source": [
    "# I am not able to add a and b because they are not exactly the same size. a and b are arrays of different dimmensions.\n",
    "\n",
    "sum_a_b = np.add(a,b)\n",
    "\n",
    "print(sum_a_b)"
   ]
  },
  {
   "cell_type": "markdown",
   "metadata": {},
   "source": [
    "#### 9. Transpose *b* so that it has the same structure of *a* (i.e. become a 2x3x5 array). Assign the transposed array to variable *c*."
   ]
  },
  {
   "cell_type": "code",
   "execution_count": 12,
   "metadata": {},
   "outputs": [
    {
     "name": "stdout",
     "output_type": "stream",
     "text": [
      "[[[1 1 1 1 1]\n",
      "  [1 1 1 1 1]\n",
      "  [1 1 1 1 1]]\n",
      "\n",
      " [[1 1 1 1 1]\n",
      "  [1 1 1 1 1]\n",
      "  [1 1 1 1 1]]]\n"
     ]
    }
   ],
   "source": [
    "c = np.transpose(b,)\n",
    "print(c)"
   ]
  },
  {
   "cell_type": "markdown",
   "metadata": {},
   "source": [
    "#### 10. Try to add *a* and *c*. Now it should work. Assign the sum to variable *d*. But why does it work now?"
   ]
  },
  {
   "cell_type": "code",
   "execution_count": 13,
   "metadata": {},
   "outputs": [
    {
     "name": "stdout",
     "output_type": "stream",
     "text": [
      "[[[1.54599716 1.32083998 1.10653635 1.58955929 1.1750449 ]\n",
      "  [1.8236174  1.85824752 1.56039312 1.18846656 1.60811738]\n",
      "  [1.67981215 1.29722189 1.9627614  1.72878882 1.7565258 ]]\n",
      "\n",
      " [[1.10436574 1.38514364 1.28362538 1.48022071 1.97581422]\n",
      "  [1.82724659 1.44541649 1.6895224  1.43374465 1.61540728]\n",
      "  [1.10465446 1.62572036 1.29908556 1.14299704 1.89650996]]]\n"
     ]
    }
   ],
   "source": [
    "d = np.add(a,c)\n",
    "print(d)\n",
    "\n",
    "# Adding a and c works because they are arrays of the same size."
   ]
  },
  {
   "cell_type": "markdown",
   "metadata": {},
   "source": [
    "#### 11. Print *a* and *d*. Notice the difference and relation of the two array in terms of the values? Explain."
   ]
  },
  {
   "cell_type": "code",
   "execution_count": 16,
   "metadata": {},
   "outputs": [
    {
     "name": "stdout",
     "output_type": "stream",
     "text": [
      "[[[0.54599716 0.32083998 0.10653635 0.58955929 0.1750449 ]\n",
      "  [0.8236174  0.85824752 0.56039312 0.18846656 0.60811738]\n",
      "  [0.67981215 0.29722189 0.9627614  0.72878882 0.7565258 ]]\n",
      "\n",
      " [[0.10436574 0.38514364 0.28362538 0.48022071 0.97581422]\n",
      "  [0.82724659 0.44541649 0.6895224  0.43374465 0.61540728]\n",
      "  [0.10465446 0.62572036 0.29908556 0.14299704 0.89650996]]]\n",
      "[[[1.54599716 1.32083998 1.10653635 1.58955929 1.1750449 ]\n",
      "  [1.8236174  1.85824752 1.56039312 1.18846656 1.60811738]\n",
      "  [1.67981215 1.29722189 1.9627614  1.72878882 1.7565258 ]]\n",
      "\n",
      " [[1.10436574 1.38514364 1.28362538 1.48022071 1.97581422]\n",
      "  [1.82724659 1.44541649 1.6895224  1.43374465 1.61540728]\n",
      "  [1.10465446 1.62572036 1.29908556 1.14299704 1.89650996]]]\n"
     ]
    }
   ],
   "source": [
    "print(a)\n",
    "print(d)\n",
    "\n",
    "# d is the same array a just that each value has +1."
   ]
  },
  {
   "cell_type": "markdown",
   "metadata": {},
   "source": [
    "#### 12. Multiply *a* and *c*. Assign the result to *e*."
   ]
  },
  {
   "cell_type": "code",
   "execution_count": 15,
   "metadata": {},
   "outputs": [
    {
     "name": "stdout",
     "output_type": "stream",
     "text": [
      "[[[0.54599716 0.32083998 0.10653635 0.58955929 0.1750449 ]\n",
      "  [0.8236174  0.85824752 0.56039312 0.18846656 0.60811738]\n",
      "  [0.67981215 0.29722189 0.9627614  0.72878882 0.7565258 ]]\n",
      "\n",
      " [[0.10436574 0.38514364 0.28362538 0.48022071 0.97581422]\n",
      "  [0.82724659 0.44541649 0.6895224  0.43374465 0.61540728]\n",
      "  [0.10465446 0.62572036 0.29908556 0.14299704 0.89650996]]]\n"
     ]
    }
   ],
   "source": [
    "e = np.multiply(a,c)\n",
    "print(e)"
   ]
  },
  {
   "cell_type": "markdown",
   "metadata": {},
   "source": [
    "#### 13. Does *e* equal to *a*? Why or why not?\n"
   ]
  },
  {
   "cell_type": "code",
   "execution_count": 17,
   "metadata": {},
   "outputs": [
    {
     "name": "stdout",
     "output_type": "stream",
     "text": [
      "[[[0.54599716 0.32083998 0.10653635 0.58955929 0.1750449 ]\n",
      "  [0.8236174  0.85824752 0.56039312 0.18846656 0.60811738]\n",
      "  [0.67981215 0.29722189 0.9627614  0.72878882 0.7565258 ]]\n",
      "\n",
      " [[0.10436574 0.38514364 0.28362538 0.48022071 0.97581422]\n",
      "  [0.82724659 0.44541649 0.6895224  0.43374465 0.61540728]\n",
      "  [0.10465446 0.62572036 0.29908556 0.14299704 0.89650996]]]\n",
      "[[[0.54599716 0.32083998 0.10653635 0.58955929 0.1750449 ]\n",
      "  [0.8236174  0.85824752 0.56039312 0.18846656 0.60811738]\n",
      "  [0.67981215 0.29722189 0.9627614  0.72878882 0.7565258 ]]\n",
      "\n",
      " [[0.10436574 0.38514364 0.28362538 0.48022071 0.97581422]\n",
      "  [0.82724659 0.44541649 0.6895224  0.43374465 0.61540728]\n",
      "  [0.10465446 0.62572036 0.29908556 0.14299704 0.89650996]]]\n"
     ]
    }
   ],
   "source": [
    "# e equals to a because because I am multiplying each value of array a by each value of array c which is only composed of 1's. Thus, meaning that e equals to a.\n",
    "print(e)\n",
    "print(a)"
   ]
  },
  {
   "cell_type": "markdown",
   "metadata": {},
   "source": [
    "#### 14. Identify the max, min, and mean values in *d*. Assign those values to variables *d_max*, *d_min* and *d_mean*."
   ]
  },
  {
   "cell_type": "code",
   "execution_count": 25,
   "metadata": {},
   "outputs": [
    {
     "name": "stdout",
     "output_type": "stream",
     "text": [
      "Max:  1.9758142205438238\n",
      "Min:  1.1043657447277835\n",
      "Mean:  1.5170468059029332\n"
     ]
    }
   ],
   "source": [
    "d_max = np.amax(d)\n",
    "print(\"Max: \", d_max)\n",
    "\n",
    "d_min = np.amin(d)\n",
    "print(\"Min: \", d_min)\n",
    "\n",
    "d_mean = np.mean(d)\n",
    "print(\"Mean: \", d_mean)"
   ]
  },
  {
   "cell_type": "markdown",
   "metadata": {},
   "source": [
    "#### 15. Now we want to label the values in *d*. First create an empty array *f* with the same shape (i.e. 2x3x5) as *d* using `np.empty`."
   ]
  },
  {
   "cell_type": "code",
   "execution_count": null,
   "metadata": {},
   "outputs": [],
   "source": [
    "f = np.empty((2,3,5))"
   ]
  },
  {
   "cell_type": "markdown",
   "metadata": {},
   "source": [
    "#### 16. Populate the values in *f*. \n",
    "\n",
    "For each value in *d*, if it's larger than *d_min* but smaller than *d_mean*, assign 25 to the corresponding value in *f*. If a value in *d* is larger than *d_mean* but smaller than *d_max*, assign 75 to the corresponding value in *f*. If a value equals to *d_mean*, assign 50 to the corresponding value in *f*. Assign 0 to the corresponding value(s) in *f* for *d_min* in *d*. Assign 100 to the corresponding value(s) in *f* for *d_max* in *d*. In the end, f should have only the following values: 0, 25, 50, 75, and 100.\n",
    "\n",
    "**Note**: you don't have to use Numpy in this question."
   ]
  },
  {
   "cell_type": "code",
   "execution_count": 27,
   "metadata": {},
   "outputs": [
    {
     "name": "stdout",
     "output_type": "stream",
     "text": [
      "[[[ 75  25  25  75  25]\n",
      "  [ 75  75  75  25  75]\n",
      "  [ 75  25  75  75  75]]\n",
      "\n",
      " [[  0  25  25  25 100]\n",
      "  [ 75  25  75  25  75]\n",
      "  [ 25  75  25  25  75]]]\n"
     ]
    }
   ],
   "source": [
    "values_f= [[[25 if d_min<value<d_mean else 75 if d_mean<value< d_max else 0 if value == d_min else 50 if value == d_mean else 100 for value in in_list] for in_list in out_list] for out_list in d]\n",
    "\n",
    "f= np.array(values_f)\n",
    "\n",
    "print(f)"
   ]
  },
  {
   "cell_type": "markdown",
   "metadata": {},
   "source": [
    "#### 17. Print *d* and *f*. Do you have your expected *f*?\n",
    "For instance, if your *d* is:\n",
    "```python\n",
    "[[[1.85836099, 1.67064465, 1.62576044, 1.40243961, 1.88454931],\n",
    "[1.75354326, 1.69403643, 1.36729252, 1.61415071, 1.12104981],\n",
    "[1.72201435, 1.1862918 , 1.87078449, 1.7726778 , 1.88180042]],\n",
    "[[1.44747908, 1.31673383, 1.02000951, 1.52218947, 1.97066381],\n",
    "[1.79129243, 1.74983003, 1.96028037, 1.85166831, 1.65450881],\n",
    "[1.18068344, 1.9587381 , 1.00656599, 1.93402165, 1.73514584]]]\n",
    "```\n",
    "Your *f* should be:\n",
    "```python\n",
    "[[[ 75.,  75.,  75.,  25.,  75.],\n",
    "[ 75.,  75.,  25.,  25.,  25.],\n",
    "[ 75.,  25.,  75.,  75.,  75.]],\n",
    "[[ 25.,  25.,  25.,  25., 100.],\n",
    "[ 75.,  75.,  75.,  75.,  75.],\n",
    "[ 25.,  75.,   0.,  75.,  75.]]]\n",
    "```"
   ]
  },
  {
   "cell_type": "code",
   "execution_count": 28,
   "metadata": {},
   "outputs": [
    {
     "name": "stdout",
     "output_type": "stream",
     "text": [
      "[[[1.54599716 1.32083998 1.10653635 1.58955929 1.1750449 ]\n",
      "  [1.8236174  1.85824752 1.56039312 1.18846656 1.60811738]\n",
      "  [1.67981215 1.29722189 1.9627614  1.72878882 1.7565258 ]]\n",
      "\n",
      " [[1.10436574 1.38514364 1.28362538 1.48022071 1.97581422]\n",
      "  [1.82724659 1.44541649 1.6895224  1.43374465 1.61540728]\n",
      "  [1.10465446 1.62572036 1.29908556 1.14299704 1.89650996]]]\n",
      "[[[ 75  25  25  75  25]\n",
      "  [ 75  75  75  25  75]\n",
      "  [ 75  25  75  75  75]]\n",
      "\n",
      " [[  0  25  25  25 100]\n",
      "  [ 75  25  75  25  75]\n",
      "  [ 25  75  25  25  75]]]\n"
     ]
    }
   ],
   "source": [
    "print(d)\n",
    "print(f)"
   ]
  },
  {
   "cell_type": "markdown",
   "metadata": {},
   "source": [
    "#### 18. Bonus question: instead of using numbers (i.e. 0, 25, 50, 75, and 100), use string values  (\"A\", \"B\", \"C\", \"D\", and \"E\") to label the array elements. For the example above, the expected result is:\n",
    "\n",
    "```python\n",
    "[[[ 'D',  'D',  'D',  'B',  'D'],\n",
    "[ 'D',  'D',  'B',  'B',  'B'],\n",
    "[ 'D',  'B',  'D',  'D',  'D']],\n",
    "[[ 'B',  'B',  'B',  'B',  'E'],\n",
    "[ 'D',  'D',  'D',  'D',  'D'],\n",
    "[ 'B',  'D',   'A',  'D', 'D']]]\n",
    "```\n",
    "**Note**: you don't have to use Numpy in this question."
   ]
  },
  {
   "cell_type": "code",
   "execution_count": 29,
   "metadata": {},
   "outputs": [
    {
     "name": "stdout",
     "output_type": "stream",
     "text": [
      "[[['D' 'B' 'B' 'D' 'B']\n",
      "  ['D' 'D' 'D' 'B' 'D']\n",
      "  ['D' 'B' 'D' 'D' 'D']]\n",
      "\n",
      " [['A' 'B' 'B' 'B' 'E']\n",
      "  ['D' 'B' 'D' 'B' 'D']\n",
      "  ['B' 'D' 'B' 'B' 'D']]]\n"
     ]
    }
   ],
   "source": [
    "f2_values = [[[\"B\" if d_min<value<d_mean else \"D\" if d_mean<value< d_max else \"A\" if value == d_min else \"C\" if value == d_mean else \"E\" for value in in_list] for in_list in out_list] for out_list in d]\n",
    "\n",
    "f2 = np.array(f2_values)\n",
    "print(f2)\n"
   ]
  },
  {
   "cell_type": "code",
   "execution_count": null,
   "metadata": {},
   "outputs": [],
   "source": []
  }
 ],
 "metadata": {
  "kernelspec": {
   "display_name": "Python 3",
   "language": "python",
   "name": "python3"
  },
  "language_info": {
   "codemirror_mode": {
    "name": "ipython",
    "version": 3
   },
   "file_extension": ".py",
   "mimetype": "text/x-python",
   "name": "python",
   "nbconvert_exporter": "python",
   "pygments_lexer": "ipython3",
   "version": "3.7.4"
  }
 },
 "nbformat": 4,
 "nbformat_minor": 2
}
